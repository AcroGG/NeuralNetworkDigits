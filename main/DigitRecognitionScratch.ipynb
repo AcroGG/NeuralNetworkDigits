{
 "cells": [
  {
   "cell_type": "code",
   "execution_count": 105,
   "metadata": {},
   "outputs": [],
   "source": [
    "import pandas as pd\n",
    "import numpy as np \n",
    "from matplotlib import pyplot as plt"
   ]
  },
  {
   "cell_type": "code",
   "execution_count": 106,
   "metadata": {},
   "outputs": [],
   "source": [
    "# Read in data\n",
    "data = pd.read_csv('mnist_train.csv')"
   ]
  },
  {
   "cell_type": "code",
   "execution_count": 107,
   "metadata": {},
   "outputs": [],
   "source": [
    "# Store data and split into training and dev sets  shuffle data\n",
    "data = np.array(data)\n",
    "m, n = data.shape\n",
    "np.random.shuffle(data) \n",
    "\n",
    "dev_data = data[0:1000].T\n",
    "dev_y = dev_data[0]\n",
    "dev_x = dev_data[1:n]\n",
    "dev_x = dev_x / 255.\n",
    "\n",
    "train_data = data[1000:m].T\n",
    "train_y = train_data[0]\n",
    "train_x = train_data[1:n]\n",
    "train_x = train_x / 255.\n",
    "_,m_train = train_x.shape\n"
   ]
  },
  {
   "cell_type": "code",
   "execution_count": 108,
   "metadata": {},
   "outputs": [],
   "source": [
    "# Initialize weight and bias parameters \n",
    "# Create math activation functions layers will be applied too\n",
    "# Create forward propagation function activation functions, weights and biases are applied to layers to use image data to predict image digit\n",
    "# Create a backwards propagation function that uses the actual correct digit to cross check with the predictions and measures how much the weights and biases contribute to how incorrect it is \n",
    "# finally update parameters \n",
    "def init_params():\n",
    "    Weight1 = np.random.rand(10, 784) - 0.5\n",
    "    bias1 = np.random.rand(10, 1) - 0.5\n",
    "    Weight2 = np.random.rand(10, 10) - 0.5\n",
    "    bias2 = np.random.rand(10, 1) - 0.5\n",
    "    return Weight1, bias1, Weight2, bias2\n",
    "\n",
    "def ReLU(Unactivated_layer):\n",
    "    return np.maximum(Unactivated_layer, 0)\n",
    "\n",
    "def softmax(Unactivated_layer):\n",
    "    return np.exp(Unactivated_layer) / sum(np.exp(Unactivated_layer))\n",
    "    \n",
    "def forward_propagation(Weight1, bias1, Weight2, bias2, x):\n",
    "    Unactivated_layer_1 = Weight1.dot(x) + bias1\n",
    "    Input_layer_1 = ReLU(Unactivated_layer_1)\n",
    "    Unactivated_layer_2 = Weight2.dot(Input_layer_1) + bias2\n",
    "    Input_layer_2 = softmax(Unactivated_layer_2)\n",
    "    return Unactivated_layer_1, Input_layer_1, Unactivated_layer_2, Input_layer_2\n",
    "\n",
    "def ReLU_deriv(Unactivated_layer):\n",
    "    return Unactivated_layer > 0\n",
    "\n",
    "#used to encode the label actual digits row\n",
    "def digit_encode(y):\n",
    "    encode_y = np.zeros((y.size, y.max() + 1))\n",
    "    encode_y[np.arange(y.size), y] = 1\n",
    "    encode_y = encode_y.T\n",
    "    return encode_y\n",
    "\n",
    "def backward_propagation(Unactivated_layer_1, Input_layer_1, Unactivated_layer_2, Input_layer_2, Weight1, Weight2, x, y):\n",
    "    encode_y = digit_encode(y)\n",
    "    dU2 = Input_layer_2 - encode_y\n",
    "    dWeight2 = 1 / m * dU2.dot(Input_layer_1.T)\n",
    "    dbias2 = 1 / m * np.sum(dU2)\n",
    "    dU1 = Weight2.T.dot(dU2) * ReLU_deriv(Unactivated_layer_1)\n",
    "    dWeight1 = 1 / m * dU1.dot(x.T)\n",
    "    dbias1 = 1 / m * np.sum(dU1)\n",
    "    return dWeight1, dbias1, dWeight2, dbias2\n",
    "\n",
    "def update_params(Weight1, bias1, Weight2, bias2, dWeight1, dbias1, dWeight2, dbias2, alpha):\n",
    "    Weight1 = Weight1 - alpha * dWeight1\n",
    "    bias1 = bias1 - alpha * dbias1    \n",
    "    Weight2 = Weight2 - alpha * dWeight2  \n",
    "    bias2 = bias2 - alpha * dbias2    \n",
    "    return Weight1, bias1, Weight2, bias2\n"
   ]
  },
  {
   "cell_type": "code",
   "execution_count": 109,
   "metadata": {},
   "outputs": [],
   "source": [
    "# Put the function together as a learning model iterate through the data and get accuracy\n",
    "def get_predictions(Input_layer_2):\n",
    "    return np.argmax(Input_layer_2, 0)\n",
    "\n",
    "def get_accuracy(predictions, y):\n",
    "    print(predictions, y)\n",
    "    return np.sum(predictions == y) / y.size\n",
    "\n",
    "def learning_model(x, y, alpha, iterations):\n",
    "    Weight1, bias1, Weight2, bias2 = init_params()\n",
    "    for i in range(iterations):\n",
    "        Unactivated_layer_1, Input_layer_1, Unactivated_layer_2, Input_layer_2 = forward_propagation(Weight1, bias1, Weight2, bias2, x)\n",
    "        dWeight1, dbias1, dWeight2, dbias2 = backward_propagation(Unactivated_layer_1, Input_layer_1, Unactivated_layer_2, Input_layer_2, Weight1, Weight2, x, y)\n",
    "        Weight1, bias1, Weight2, bias2 = update_params(Weight1, bias1, Weight2, bias2, dWeight1, dbias1, dWeight2, dbias2, alpha)\n",
    "        if i % 50 == 0:\n",
    "            print(\"Iteration: \", i)\n",
    "            predictions = get_predictions(Input_layer_2)\n",
    "            print(\"Accuracy: \", get_accuracy(predictions, y))\n",
    "    return Weight1, bias1, Weight2, bias2\n",
    "\n"
   ]
  },
  {
   "cell_type": "code",
   "execution_count": 110,
   "metadata": {},
   "outputs": [
    {
     "name": "stdout",
     "output_type": "stream",
     "text": [
      "Iteration:  0\n",
      "[4 6 6 ... 7 7 8] [4 1 9 ... 2 5 3]\n",
      "Accuracy:  0.08857627118644068\n",
      "Iteration:  50\n",
      "[4 2 4 ... 2 3 8] [4 1 9 ... 2 5 3]\n",
      "Accuracy:  0.26552542372881355\n",
      "Iteration:  100\n",
      "[4 1 9 ... 2 3 3] [4 1 9 ... 2 5 3]\n",
      "Accuracy:  0.5146440677966102\n",
      "Iteration:  150\n",
      "[4 1 9 ... 2 3 3] [4 1 9 ... 2 5 3]\n",
      "Accuracy:  0.6391016949152543\n",
      "Iteration:  200\n",
      "[4 1 9 ... 2 3 3] [4 1 9 ... 2 5 3]\n",
      "Accuracy:  0.7176610169491525\n",
      "Iteration:  250\n",
      "[4 1 9 ... 2 3 3] [4 1 9 ... 2 5 3]\n",
      "Accuracy:  0.7628983050847458\n",
      "Iteration:  300\n",
      "[4 1 9 ... 2 3 3] [4 1 9 ... 2 5 3]\n",
      "Accuracy:  0.7903559322033898\n",
      "Iteration:  350\n",
      "[4 1 9 ... 2 3 3] [4 1 9 ... 2 5 3]\n",
      "Accuracy:  0.807677966101695\n",
      "Iteration:  400\n",
      "[4 1 9 ... 2 3 3] [4 1 9 ... 2 5 3]\n",
      "Accuracy:  0.819728813559322\n",
      "Iteration:  450\n",
      "[4 1 9 ... 2 3 3] [4 1 9 ... 2 5 3]\n",
      "Accuracy:  0.8285423728813559\n"
     ]
    }
   ],
   "source": [
    "Weight1, bias1, Weight2, bias2 = learning_model(train_x, train_y, 0.10, 500)"
   ]
  },
  {
   "cell_type": "code",
   "execution_count": 111,
   "metadata": {},
   "outputs": [],
   "source": [
    "# Finally make and test prediction from image data using layers weights and biases\n",
    "# Display prediction and data image\n",
    "\n",
    "def make_predictions(x, Weight1, bias1, Weight2, bias2):\n",
    "    _, _, _, Input_layer_2 = forward_propagation(Weight1, bias1, Weight2, bias2, x)\n",
    "    predictions = get_predictions(Input_layer_2)\n",
    "    return predictions\n",
    "\n",
    "def test_prediction(index, Weight1, bias1, Weight2, bias2):\n",
    "    current_image = train_x[:, index, None]\n",
    "    prediction = make_predictions(train_x[:, index, None], Weight1,bias1,Weight2,bias2)\n",
    "    label = train_y[index]\n",
    "    print(\"Prediction: \", prediction)\n",
    "    print(\"Label: \", label)\n",
    "\n",
    "    current_image = current_image.reshape((28,28)) *255\n",
    "    plt.gray()\n",
    "    plt.imshow(current_image, interpolation = 'nearest')\n",
    "    plt.show()"
   ]
  },
  {
   "cell_type": "code",
   "execution_count": 115,
   "metadata": {},
   "outputs": [
    {
     "name": "stdout",
     "output_type": "stream",
     "text": [
      "Prediction:  [9]\n",
      "Label:  9\n"
     ]
    },
    {
     "data": {
      "image/png": "[encoded data removed]",
      "text/plain": [
       "<Figure size 640x480 with 1 Axes>"
      ]
     },
     "metadata": {},
     "output_type": "display_data"
    }
   ],
   "source": [
    "test_prediction(2, Weight1, bias1, Weight2, bias2)"
   ]
  }
 ],
 "metadata": {
  "kernelspec": {
   "display_name": "environment",
   "language": "python",
   "name": "python3"
  },
  "language_info": {
   "codemirror_mode": {
    "name": "ipython",
    "version": 3
   },
   "file_extension": ".py",
   "mimetype": "text/x-python",
   "name": "python",
   "nbconvert_exporter": "python",
   "pygments_lexer": "ipython3",
   "version": "3.11.4"
  },
  "orig_nbformat": 4
 },
 "nbformat": 4,
 "nbformat_minor": 2
}
